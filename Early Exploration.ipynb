{
 "cells": [
  {
   "cell_type": "code",
   "execution_count": 1,
   "metadata": {},
   "outputs": [],
   "source": [
    "import pandas as pd\n",
    "from os.path import exists, join, curdir\n",
    "from os import mkdir, listdir\n",
    "import numpy as np\n",
    "from matplotlib import pyplot"
   ]
  },
  {
   "cell_type": "code",
   "execution_count": 2,
   "metadata": {},
   "outputs": [],
   "source": [
    "LOGDIR = join(curdir, 'logs')"
   ]
  },
  {
   "cell_type": "code",
   "execution_count": 3,
   "metadata": {},
   "outputs": [],
   "source": [
    "def get_subdirs(logpath = LOGDIR, dataset=None):\n",
    "    folders = listdir(logpath)\n",
    "    paths = [join(logpath, file) for file in folders]\n",
    "    if dataset is None:\n",
    "        return paths\n",
    "    else:\n",
    "        paths = [join(logpath, folder) for folder in folders if folder == dataset]\n",
    "    return paths\n",
    "        \n",
    "def get_files(logpath, dataset):\n",
    "    model_folders = get_subdirs(logpath)\n",
    "    dataset_folders = np.array([get_subdirs(model_folder, dataset) for model_folder in model_folders]).flatten()\n",
    "    filepaths = np.array([[join(dataset_folder, file) for file in listdir(dataset_folder)] for dataset_folder in dataset_folders]).flatten()\n",
    "    #filepaths = [filepath for filepath in filepaths if 'ADAM' in filepath]\n",
    "    return list(filepaths)"
   ]
  },
  {
   "cell_type": "code",
   "execution_count": 19,
   "metadata": {},
   "outputs": [
    {
     "name": "stdout",
     "output_type": "stream",
     "text": [
      "639\n"
     ]
    }
   ],
   "source": [
    "cifar10 = get_files(LOGDIR, 'Cifar10')\n",
    "cifar10_gd = [filepath for filepath in cifar10 if not 'ADAM' in filepath]\n",
    "cifar10_lrs = [filepath for filepath in cifar10 if 'LRS' in filepath]\n",
    "cifar10_ad = [filepath for filepath in cifar10 if 'ADAM' in filepath]\n",
    "cifar100 = [filepath for filepath in get_files(LOGDIR, 'Cifar100')][0]\n",
    "cifar100_ad = [filepath for filepath in cifar100 if 'ADAM' in filepath]\n",
    "cifar100_ld = [filepath for filepath in cifar100 if not 'ADAM' in filepath]\n",
    "catdog = get_files(LOGDIR, 'CatVsDog')\n",
    "catdog = [item for sublist in catdog for item in sublist] \n",
    "catdog_ad = [filepath for filepath in catdog if 'ADAM' in filepath]\n",
    "#print(catdog)\n",
    "\n",
    "all_sets = cifar100+cifar10+catdog\n",
    "print(len(all_sets))"
   ]
  },
  {
   "cell_type": "code",
   "execution_count": 36,
   "metadata": {
    "scrolled": true
   },
   "outputs": [],
   "source": [
    "def compute_avg_sat(df):\n",
    "    return np.mean(df.values)\n",
    "\n",
    "def filter_file(file, mode='eval', ignore='_classifier-6', final_epoch=19):\n",
    "    df = pd.read_csv(file, sep=';', index_col=0)\n",
    "    df = df[df.index == final_epoch]\n",
    "    if len(df) == 0:\n",
    "        return -1, -1, -1\n",
    "    cols = list(df.columns)\n",
    "   #print(cols)\n",
    "    filtered_cols = []\n",
    "    accuracy = -1\n",
    "    loss = -1\n",
    "    avg_sat = -1\n",
    "    for col in cols:\n",
    "        if 'accuracy' in col and 'test' in col:\n",
    "            accuracy = df[col].values[-1]\n",
    "            continue\n",
    "        if 'loss' in col and 'test' in col:\n",
    "            loss = df[col].values[-1]\n",
    "            continue\n",
    "        if ignore in col or 'eval' in col or 'test' in col or 'training' in col:\n",
    "            continue\n",
    "        print(col)\n",
    "        filtered_cols.append(col)\n",
    "    df = df[filtered_cols]\n",
    "    return compute_avg_sat(df),accuracy, loss\n",
    "avg_sat, acc, loss = [], [], []"
   ]
  },
  {
   "cell_type": "code",
   "execution_count": 37,
   "metadata": {},
   "outputs": [
    {
     "name": "stdout",
     "output_type": "stream",
     "text": [
      "639 639 639\n"
     ]
    },
    {
     "data": {
      "text/plain": [
       "Text(0, 0.5, 'Accuracy')"
      ]
     },
     "execution_count": 37,
     "metadata": {},
     "output_type": "execute_result"
    },
    {
     "data": {
      "image/png": "[encoded data removed]",
      "text/plain": [
       "<Figure size 432x288 with 1 Axes>"
      ]
     },
     "metadata": {
      "needs_background": "light"
     },
     "output_type": "display_data"
    }
   ],
   "source": [
    "def compute_avg_sat(df):\n",
    "    return np.mean(df.values)\n",
    "\n",
    "def filter_file(file, mode='eval', ignore='_classifier-6', final_epoch=19):\n",
    "    df = pd.read_csv(file, sep=';', index_col=0)\n",
    "    df = df[df.index == final_epoch]\n",
    "    if len(df) == 0:\n",
    "        return -1, -1, -1\n",
    "    cols = list(df.columns)\n",
    "   #print(cols)\n",
    "    filtered_cols = []\n",
    "    accuracy = -1\n",
    "    loss = -1\n",
    "    avg_sat = -1\n",
    "    for col in cols:\n",
    "        if 'accuracy' in col and 'test' in col:\n",
    "            accuracy = df[col].values[0]\n",
    "            continue\n",
    "        if 'loss' in col and 'test' in col:\n",
    "            loss = df[col].values[0]\n",
    "            continue\n",
    "        if ignore in col or 'eval' in col or 'test' in col or 'training' in col:\n",
    "            continue\n",
    "       #print(col)\n",
    "        filtered_cols.append(col)\n",
    "    df = df[filtered_cols]\n",
    "    return compute_avg_sat(df),accuracy, loss\n",
    "avg_sat, acc, loss = [], [], []\n",
    "maximum_acc = -1\n",
    "for dataset in all_sets:\n",
    "    if 'bs' in dataset:\n",
    "        sat, ac, los = filter_file(dataset, final_epoch=19)\n",
    "        sat = sat / 100\n",
    "        avg_sat.append(sat)\n",
    "        acc.append(ac)\n",
    "        loss.append(los)\n",
    "        if maximum_acc < ac:\n",
    "            maximum_acc = ac\n",
    "            maximum_sat = sat\n",
    "            best_ds = dataset.split('_bs')[0].split('\\\\')[-1]\n",
    "print(len(avg_sat), len(acc), len(loss))\n",
    "pyplot.scatter(avg_sat, acc)\n",
    "pyplot.title('ADAM CIFAR10 all batch-sizes, Best Model {}: Accuracy {} with Sat {}'.format(best_ds, maximum_acc, maximum_sat))\n",
    "pyplot.ylim((0,1))\n",
    "pyplot.xlim((0,1))\n",
    "pyplot.xlabel('Saturation')\n",
    "pyplot.ylabel('Accuracy')"
   ]
  },
  {
   "cell_type": "code",
   "execution_count": 56,
   "metadata": {},
   "outputs": [
    {
     "data": {
      "text/plain": [
       "Text(0, 0.5, 'Accuracy')"
      ]
     },
     "execution_count": 56,
     "metadata": {},
     "output_type": "execute_result"
    },
    {
     "data": {
      "image/png": "[encoded data removed]",
      "text/plain": [
       "<Figure size 432x288 with 1 Axes>"
      ]
     },
     "metadata": {
      "needs_background": "light"
     },
     "output_type": "display_data"
    }
   ],
   "source": [
    "avg_sat, acc, loss, label = [], [], [], []\n",
    "maximum_acc = -1\n",
    "for dataset in cifar10_ad:\n",
    "    if 'bs512' in dataset:\n",
    "        sat, ac, los = filter_file(dataset, final_epoch=19)\n",
    "        avg_sat.append(sat)\n",
    "        acc.append(ac)\n",
    "        loss.append(los)\n",
    "        label.append(dataset.split('_bs')[0].split('\\\\')[-1])\n",
    "        if maximum_acc < ac:\n",
    "            maximum_acc = ac\n",
    "            maximum_sat = sat\n",
    "            best_dataset = dataset.split('_bs')[0].split('\\\\')[-1]\n",
    "#print(len(avg_sat), len(acc), len(loss))\n",
    "pyplot.scatter(avg_sat, loss, label=label)\n",
    "#for x,y,l in zip(avg_sat, acc, label):\n",
    "#    pyplot.annotate(l,(x,y))\n",
    "pyplot.title('All CIFAR10 experiments, Best Model {}: Accuracy {} with Sat {}'.format(best_dataset ,maximum_acc, maximum_sat))\n",
    "#pyplot.ylim((0.00, 0.06))#(0,1))\n",
    "pyplot.xlim((0,100))\n",
    "pyplot.xlabel('Saturation')\n",
    "pyplot.ylabel('Accuracy')"
   ]
  },
  {
   "cell_type": "code",
   "execution_count": null,
   "metadata": {},
   "outputs": [],
   "source": []
  },
  {
   "cell_type": "code",
   "execution_count": 195,
   "metadata": {},
   "outputs": [
    {
     "data": {
      "text/plain": [
       "['.\\\\logs\\\\VGG11\\\\CatVsDog\\\\VGG11_bs128_e20_id0.csv',\n",
       " '.\\\\logs\\\\VGG11\\\\CatVsDog\\\\VGG11_bs32_e20_id0.csv',\n",
       " '.\\\\logs\\\\VGG11\\\\CatVsDog\\\\VGG11_bs512_e20_id0.csv',\n",
       " '.\\\\logs\\\\VGG11\\\\CatVsDog\\\\VGG11_bs60_e20_id0.csv',\n",
       " '.\\\\logs\\\\VGG11\\\\CatVsDog\\\\VGG11_bs8_e20_id0.csv',\n",
       " '.\\\\logs\\\\VGG11_S\\\\CatVsDog\\\\VGG11_S_bs128_e20_id0.csv',\n",
       " '.\\\\logs\\\\VGG11_S\\\\CatVsDog\\\\VGG11_S_bs32_e20_id0.csv',\n",
       " '.\\\\logs\\\\VGG11_S\\\\CatVsDog\\\\VGG11_S_bs512_e20_id0.csv',\n",
       " '.\\\\logs\\\\VGG11_S\\\\CatVsDog\\\\VGG11_S_bs60_e20_id0.csv',\n",
       " '.\\\\logs\\\\VGG11_S\\\\CatVsDog\\\\VGG11_S_bs8_e20_id0.csv',\n",
       " '.\\\\logs\\\\VGG11_XS\\\\CatVsDog\\\\VGG11_XS_bs128_e20_id0.csv',\n",
       " '.\\\\logs\\\\VGG11_XS\\\\CatVsDog\\\\VGG11_XS_bs32_e20_id0.csv',\n",
       " '.\\\\logs\\\\VGG11_XS\\\\CatVsDog\\\\VGG11_XS_bs512_e20_id0.csv',\n",
       " '.\\\\logs\\\\VGG11_XS\\\\CatVsDog\\\\VGG11_XS_bs60_e20_id0.csv',\n",
       " '.\\\\logs\\\\VGG11_XS\\\\CatVsDog\\\\VGG11_XS_bs8_e20_id0.csv',\n",
       " '.\\\\logs\\\\VGG11_XXS\\\\CatVsDog\\\\VGG11_XXS_bs128_e20_id0.csv',\n",
       " '.\\\\logs\\\\VGG11_XXS\\\\CatVsDog\\\\VGG11_XXS_bs32_e20_id0.csv',\n",
       " '.\\\\logs\\\\VGG11_XXS\\\\CatVsDog\\\\VGG11_XXS_bs512_e20_id0.csv',\n",
       " '.\\\\logs\\\\VGG11_XXS\\\\CatVsDog\\\\VGG11_XXS_bs60_e20_id0.csv',\n",
       " '.\\\\logs\\\\VGG11_XXS\\\\CatVsDog\\\\VGG11_XXS_bs8_e20_id0.csv',\n",
       " '.\\\\logs\\\\VGG11_XXXS\\\\CatVsDog\\\\VGG11_XXXS_bs128_e20_id0.csv',\n",
       " '.\\\\logs\\\\VGG11_XXXS\\\\CatVsDog\\\\VGG11_XXXS_bs32_e20_id0.csv',\n",
       " '.\\\\logs\\\\VGG11_XXXS\\\\CatVsDog\\\\VGG11_XXXS_bs512_e20_id0.csv',\n",
       " '.\\\\logs\\\\VGG11_XXXS\\\\CatVsDog\\\\VGG11_XXXS_bs60_e20_id0.csv',\n",
       " '.\\\\logs\\\\VGG11_XXXS\\\\CatVsDog\\\\VGG11_XXXS_bs8_e20_id0.csv',\n",
       " '.\\\\logs\\\\VGG13\\\\CatVsDog\\\\VGG13_bs128_e20_id0.csv',\n",
       " '.\\\\logs\\\\VGG13\\\\CatVsDog\\\\VGG13_bs32_e20_id0.csv',\n",
       " '.\\\\logs\\\\VGG13\\\\CatVsDog\\\\VGG13_bs512_e20_id0.csv',\n",
       " '.\\\\logs\\\\VGG13\\\\CatVsDog\\\\VGG13_bs60_e20_id0.csv',\n",
       " '.\\\\logs\\\\VGG13\\\\CatVsDog\\\\VGG13_bs8_e20_id0.csv',\n",
       " '.\\\\logs\\\\VGG13_S\\\\CatVsDog\\\\VGG13_S_bs128_e20_id0.csv',\n",
       " '.\\\\logs\\\\VGG13_S\\\\CatVsDog\\\\VGG13_S_bs32_e20_id0.csv',\n",
       " '.\\\\logs\\\\VGG13_S\\\\CatVsDog\\\\VGG13_S_bs512_e20_id0.csv',\n",
       " '.\\\\logs\\\\VGG13_S\\\\CatVsDog\\\\VGG13_S_bs60_e20_id0.csv',\n",
       " '.\\\\logs\\\\VGG13_S\\\\CatVsDog\\\\VGG13_S_bs8_e20_id0.csv',\n",
       " '.\\\\logs\\\\VGG13_XS\\\\CatVsDog\\\\VGG13_XS_bs128_e20_id0.csv',\n",
       " '.\\\\logs\\\\VGG13_XS\\\\CatVsDog\\\\VGG13_XS_bs32_e20_id0.csv',\n",
       " '.\\\\logs\\\\VGG13_XS\\\\CatVsDog\\\\VGG13_XS_bs512_e20_id0.csv',\n",
       " '.\\\\logs\\\\VGG13_XS\\\\CatVsDog\\\\VGG13_XS_bs60_e20_id0.csv',\n",
       " '.\\\\logs\\\\VGG13_XS\\\\CatVsDog\\\\VGG13_XS_bs8_e20_id0.csv',\n",
       " '.\\\\logs\\\\VGG13_XXS\\\\CatVsDog\\\\VGG13_XXS_bs128_e20_id0.csv',\n",
       " '.\\\\logs\\\\VGG13_XXS\\\\CatVsDog\\\\VGG13_XXS_bs32_e20_id0.csv',\n",
       " '.\\\\logs\\\\VGG13_XXS\\\\CatVsDog\\\\VGG13_XXS_bs512_e20_id0.csv',\n",
       " '.\\\\logs\\\\VGG13_XXS\\\\CatVsDog\\\\VGG13_XXS_bs60_e20_id0.csv',\n",
       " '.\\\\logs\\\\VGG13_XXS\\\\CatVsDog\\\\VGG13_XXS_bs8_e20_id0.csv',\n",
       " '.\\\\logs\\\\VGG13_XXXS\\\\CatVsDog\\\\VGG13_XXXS_bs128_e20_id0.csv',\n",
       " '.\\\\logs\\\\VGG13_XXXS\\\\CatVsDog\\\\VGG13_XXXS_bs32_e20_id0.csv',\n",
       " '.\\\\logs\\\\VGG13_XXXS\\\\CatVsDog\\\\VGG13_XXXS_bs512_e20_id0.csv',\n",
       " '.\\\\logs\\\\VGG13_XXXS\\\\CatVsDog\\\\VGG13_XXXS_bs60_e20_id0.csv',\n",
       " '.\\\\logs\\\\VGG13_XXXS\\\\CatVsDog\\\\VGG13_XXXS_bs8_e20_id0.csv',\n",
       " '.\\\\logs\\\\VGG16\\\\CatVsDog\\\\VGG16_bs128_e20_id0.csv',\n",
       " '.\\\\logs\\\\VGG16\\\\CatVsDog\\\\VGG16_bs32_e20_id0.csv',\n",
       " '.\\\\logs\\\\VGG16\\\\CatVsDog\\\\VGG16_bs512_e20_id0.csv',\n",
       " '.\\\\logs\\\\VGG16\\\\CatVsDog\\\\VGG16_bs60_e20_id0.csv',\n",
       " '.\\\\logs\\\\VGG16\\\\CatVsDog\\\\VGG16_bs8_e20_id0.csv',\n",
       " '.\\\\logs\\\\VGG16_S\\\\CatVsDog\\\\VGG16_S_bs128_e20_id0.csv',\n",
       " '.\\\\logs\\\\VGG16_S\\\\CatVsDog\\\\VGG16_S_bs32_e20_id0.csv',\n",
       " '.\\\\logs\\\\VGG16_S\\\\CatVsDog\\\\VGG16_S_bs512_e20_id0.csv',\n",
       " '.\\\\logs\\\\VGG16_S\\\\CatVsDog\\\\VGG16_S_bs60_e20_id0.csv',\n",
       " '.\\\\logs\\\\VGG16_S\\\\CatVsDog\\\\VGG16_S_bs8_e20_id0.csv',\n",
       " '.\\\\logs\\\\VGG16_XS\\\\CatVsDog\\\\VGG16_XS_bs128_e20_id0.csv',\n",
       " '.\\\\logs\\\\VGG16_XS\\\\CatVsDog\\\\VGG16_XS_bs32_e20_id0.csv',\n",
       " '.\\\\logs\\\\VGG16_XS\\\\CatVsDog\\\\VGG16_XS_bs512_e20_id0.csv',\n",
       " '.\\\\logs\\\\VGG16_XS\\\\CatVsDog\\\\VGG16_XS_bs60_e20_id0.csv',\n",
       " '.\\\\logs\\\\VGG16_XS\\\\CatVsDog\\\\VGG16_XS_bs8_e20_id0.csv',\n",
       " '.\\\\logs\\\\VGG16_XXS\\\\CatVsDog\\\\VGG16_XXS_bs128_e20_id0.csv',\n",
       " '.\\\\logs\\\\VGG16_XXS\\\\CatVsDog\\\\VGG16_XXS_bs32_e20_id0.csv',\n",
       " '.\\\\logs\\\\VGG16_XXS\\\\CatVsDog\\\\VGG16_XXS_bs512_e20_id0.csv',\n",
       " '.\\\\logs\\\\VGG16_XXS\\\\CatVsDog\\\\VGG16_XXS_bs60_e20_id0.csv',\n",
       " '.\\\\logs\\\\VGG16_XXS\\\\CatVsDog\\\\VGG16_XXS_bs8_e20_id0.csv',\n",
       " '.\\\\logs\\\\VGG16_XXXS\\\\CatVsDog\\\\VGG16_XXXS_bs128_e20_id0.csv',\n",
       " '.\\\\logs\\\\VGG16_XXXS\\\\CatVsDog\\\\VGG16_XXXS_bs32_e20_id0.csv',\n",
       " '.\\\\logs\\\\VGG16_XXXS\\\\CatVsDog\\\\VGG16_XXXS_bs512_e20_id0.csv',\n",
       " '.\\\\logs\\\\VGG16_XXXS\\\\CatVsDog\\\\VGG16_XXXS_bs60_e20_id0.csv',\n",
       " '.\\\\logs\\\\VGG16_XXXS\\\\CatVsDog\\\\VGG16_XXXS_bs8_e20_id0.csv',\n",
       " '.\\\\logs\\\\VGG19\\\\CatVsDog\\\\VGG19_bs128_e20_id0.csv',\n",
       " '.\\\\logs\\\\VGG19\\\\CatVsDog\\\\VGG19_bs32_e20_id0.csv',\n",
       " '.\\\\logs\\\\VGG19\\\\CatVsDog\\\\VGG19_bs512_e20_id0.csv',\n",
       " '.\\\\logs\\\\VGG19\\\\CatVsDog\\\\VGG19_bs60_e20_id0.csv',\n",
       " '.\\\\logs\\\\VGG19\\\\CatVsDog\\\\VGG19_bs8_e20_id0.csv',\n",
       " '.\\\\logs\\\\VGG19_S\\\\CatVsDog\\\\VGG19_S_bs128_e20_id0.csv',\n",
       " '.\\\\logs\\\\VGG19_S\\\\CatVsDog\\\\VGG19_S_bs32_e20_id0.csv',\n",
       " '.\\\\logs\\\\VGG19_S\\\\CatVsDog\\\\VGG19_S_bs512_e20_id0.csv',\n",
       " '.\\\\logs\\\\VGG19_S\\\\CatVsDog\\\\VGG19_S_bs60_e20_id0.csv',\n",
       " '.\\\\logs\\\\VGG19_S\\\\CatVsDog\\\\VGG19_S_bs8_e20_id0.csv',\n",
       " '.\\\\logs\\\\VGG19_XS\\\\CatVsDog\\\\VGG19_XS_bs128_e20_id0.csv',\n",
       " '.\\\\logs\\\\VGG19_XS\\\\CatVsDog\\\\VGG19_XS_bs32_e20_id0.csv',\n",
       " '.\\\\logs\\\\VGG19_XS\\\\CatVsDog\\\\VGG19_XS_bs512_e20_id0.csv',\n",
       " '.\\\\logs\\\\VGG19_XS\\\\CatVsDog\\\\VGG19_XS_bs60_e20_id0.csv',\n",
       " '.\\\\logs\\\\VGG19_XS\\\\CatVsDog\\\\VGG19_XS_bs8_e20_id0.csv',\n",
       " '.\\\\logs\\\\VGG19_XXS\\\\CatVsDog\\\\VGG19_XXS_bs128_e20_id0.csv',\n",
       " '.\\\\logs\\\\VGG19_XXS\\\\CatVsDog\\\\VGG19_XXS_bs32_e20_id0.csv',\n",
       " '.\\\\logs\\\\VGG19_XXS\\\\CatVsDog\\\\VGG19_XXS_bs512_e20_id0.csv',\n",
       " '.\\\\logs\\\\VGG19_XXS\\\\CatVsDog\\\\VGG19_XXS_bs60_e20_id0.csv',\n",
       " '.\\\\logs\\\\VGG19_XXS\\\\CatVsDog\\\\VGG19_XXS_bs8_e20_id0.csv',\n",
       " '.\\\\logs\\\\VGG19_XXXS\\\\CatVsDog\\\\VGG19_XXXS_bs128_e20_id0.csv',\n",
       " '.\\\\logs\\\\VGG19_XXXS\\\\CatVsDog\\\\VGG19_XXXS_bs32_e20_id0.csv',\n",
       " '.\\\\logs\\\\VGG19_XXXS\\\\CatVsDog\\\\VGG19_XXXS_bs512_e20_id0.csv',\n",
       " '.\\\\logs\\\\VGG19_XXXS\\\\CatVsDog\\\\VGG19_XXXS_bs60_e20_id0.csv',\n",
       " '.\\\\logs\\\\VGG19_XXXS\\\\CatVsDog\\\\VGG19_XXXS_bs8_e20_id0.csv']"
      ]
     },
     "execution_count": 195,
     "metadata": {},
     "output_type": "execute_result"
    }
   ],
   "source": [
    "catdog"
   ]
  },
  {
   "cell_type": "code",
   "execution_count": null,
   "metadata": {},
   "outputs": [],
   "source": []
  }
 ],
 "metadata": {
  "kernelspec": {
   "display_name": "Python 3",
   "language": "python",
   "name": "python3"
  },
  "language_info": {
   "codemirror_mode": {
    "name": "ipython",
    "version": 3
   },
   "file_extension": ".py",
   "mimetype": "text/x-python",
   "name": "python",
   "nbconvert_exporter": "python",
   "pygments_lexer": "ipython3",
   "version": "3.7.1"
  }
 },
 "nbformat": 4,
 "nbformat_minor": 2
}
